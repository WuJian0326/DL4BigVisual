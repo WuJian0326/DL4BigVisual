{
  "cells": [
    {
      "cell_type": "markdown",
      "metadata": {
        "id": "Le7KyRKU4rc9"
      },
      "source": [
        "## Problem 1"
      ]
    },
    {
      "cell_type": "code",
      "execution_count": 1,
      "metadata": {
        "id": "PhjLGc96WSFE"
      },
      "outputs": [],
      "source": [
        "import torch\n",
        "import torch.optim as optim"
      ]
    },
    {
      "cell_type": "markdown",
      "metadata": {
        "id": "XsY1xCq5FVKS"
      },
      "source": [
        "### (a) Tensor"
      ]
    },
    {
      "cell_type": "markdown",
      "metadata": {
        "id": "i8w_eeTTmKc8"
      },
      "source": [
        "Construct an uninitialized 4x4 matrix:\n",
        "\n",
        "\n",
        "\n"
      ]
    },
    {
      "cell_type": "code",
      "execution_count": 2,
      "metadata": {
        "colab": {
          "base_uri": "https://localhost:8080/"
        },
        "id": "iupWY0T38vB2",
        "outputId": "ab7da196-3b8c-45f7-f6aa-2358d97607b3"
      },
      "outputs": [
        {
          "output_type": "stream",
          "name": "stdout",
          "text": [
            "tensor([[0.8644, 0.3341, 0.5548, 0.7913],\n",
            "        [0.0072, 0.7330, 0.5189, 0.3253],\n",
            "        [0.5254, 0.1827, 0.2064, 0.3782],\n",
            "        [0.7501, 0.2718, 0.6586, 0.9600]])\n"
          ]
        }
      ],
      "source": [
        "# todo\n",
        "x = torch.rand(4,4)\n",
        "print(x)"
      ]
    },
    {
      "cell_type": "markdown",
      "metadata": {
        "id": "6t3ZpPvhmNyR"
      },
      "source": [
        "Construct a randomly initialized 3x3 matrix from a uniform distribution on the interval [0, 10)"
      ]
    },
    {
      "cell_type": "code",
      "execution_count": 3,
      "metadata": {
        "colab": {
          "base_uri": "https://localhost:8080/"
        },
        "id": "Eb_e-WVZmTSR",
        "outputId": "2127f80f-806c-49b0-e7fb-9c385d8dce64"
      },
      "outputs": [
        {
          "output_type": "stream",
          "name": "stdout",
          "text": [
            "tensor([[0.5424, 8.0749, 9.4233],\n",
            "        [3.8161, 7.8092, 7.4126],\n",
            "        [8.2330, 8.0457, 6.9307]])\n"
          ]
        }
      ],
      "source": [
        "# todo\n",
        "x = 10 * torch.rand(3,3)\n",
        "print(x)"
      ]
    },
    {
      "cell_type": "markdown",
      "metadata": {
        "id": "IQ-ovXhOmVLy"
      },
      "source": [
        "Construct a 2x2 matrix filled zeros with data type float32:"
      ]
    },
    {
      "cell_type": "code",
      "execution_count": 4,
      "metadata": {
        "colab": {
          "base_uri": "https://localhost:8080/"
        },
        "id": "KpmSWypymXF5",
        "outputId": "f1cd24f4-3f4b-41fb-8c6f-35ee759e33b4"
      },
      "outputs": [
        {
          "output_type": "stream",
          "name": "stdout",
          "text": [
            "tensor([[0., 0.],\n",
            "        [0., 0.]])\n"
          ]
        }
      ],
      "source": [
        "# todo\n",
        "x = torch.zeros((2, 2), dtype=torch.float32)\n",
        "print(x)"
      ]
    },
    {
      "cell_type": "markdown",
      "metadata": {
        "id": "PKEXn8g2Y1la"
      },
      "source": [
        "Construct a 2x2 matrix from the normal distribution with zero mean and one std with the same shape as x. \n",
        "\n",
        "y's data type should be float32. \n",
        "\n",
        "Print the size of x and y."
      ]
    },
    {
      "cell_type": "code",
      "execution_count": 5,
      "metadata": {
        "colab": {
          "base_uri": "https://localhost:8080/"
        },
        "id": "96HTBfZZZOfF",
        "outputId": "d67f562b-0f78-4b4a-8f0a-6314e27c753a"
      },
      "outputs": [
        {
          "output_type": "stream",
          "name": "stdout",
          "text": [
            "tensor([[-0.3748,  0.8782,  0.0112,  1.1683, -0.1832],\n",
            "        [-0.5513,  1.8452, -1.1714,  0.0531, -0.5326],\n",
            "        [ 1.7150, -1.6217,  2.0304,  0.1354, -0.6250],\n",
            "        [-1.1176, -0.2422,  2.1268,  1.2689, -0.4771],\n",
            "        [ 0.1511,  0.6877,  1.5623, -0.9757,  1.3186]], dtype=torch.float64)\n",
            "torch.Size([5, 5])\n",
            "torch.Size([5, 5])\n"
          ]
        }
      ],
      "source": [
        "x = torch.ones(5, 5, dtype=torch.float64)\n",
        "# todo\n",
        "y = torch.normal(mean=torch.zeros_like(x), std=torch.ones_like(x))\n",
        "print(y)\n",
        "# todo: print the size of x and y\n",
        "print(x.shape)\n",
        "print(y.shape)"
      ]
    },
    {
      "cell_type": "markdown",
      "metadata": {
        "id": "iNdFynRZnOWR"
      },
      "source": [
        "### (b) Operations"
      ]
    },
    {
      "cell_type": "markdown",
      "metadata": {
        "id": "P_paGZd0aCRd"
      },
      "source": [
        "Addition: Print x + y"
      ]
    },
    {
      "cell_type": "code",
      "execution_count": 6,
      "metadata": {
        "colab": {
          "base_uri": "https://localhost:8080/"
        },
        "id": "nMaomyi5m4s7",
        "outputId": "51ac3d5f-f0d7-4f41-f9ae-8364045ce683"
      },
      "outputs": [
        {
          "output_type": "stream",
          "name": "stdout",
          "text": [
            "tensor([[1., 2.],\n",
            "        [3., 4.]])\n",
            "tensor([[4., 5.],\n",
            "        [6., 7.]])\n",
            "tensor([[ 5.,  7.],\n",
            "        [ 9., 11.]])\n"
          ]
        }
      ],
      "source": [
        "x = torch.tensor([[1., 2.], [3., 4.]])\n",
        "y = torch.arange(4, 8, dtype=torch.float32).reshape(2, 2)\n",
        "print(x)\n",
        "print(y)\n",
        "# todo\n",
        "print(x+y)"
      ]
    },
    {
      "cell_type": "markdown",
      "metadata": {
        "id": "PDjNjqERnwQc"
      },
      "source": [
        "Addition: add y and x inplace (modify y)"
      ]
    },
    {
      "cell_type": "code",
      "execution_count": 7,
      "metadata": {
        "colab": {
          "base_uri": "https://localhost:8080/"
        },
        "id": "4ggwAdTinx2R",
        "outputId": "bcf450e3-d58f-4b17-d745-dc67c512bcf7"
      },
      "outputs": [
        {
          "output_type": "stream",
          "name": "stdout",
          "text": [
            "tensor([[4., 5.],\n",
            "        [6., 7.]])\n",
            "tensor([[ 5.,  7.],\n",
            "        [ 9., 11.]])\n"
          ]
        }
      ],
      "source": [
        "x = torch.tensor([[1., 2.], [3., 4.]])\n",
        "y = torch.arange(4, 8, dtype=torch.float32).reshape(2, 2)\n",
        "\n",
        "# todo: adds x to y\n",
        "\n",
        "print(y)\n",
        "\n",
        "y = x+y\n",
        "print(y)"
      ]
    },
    {
      "cell_type": "markdown",
      "metadata": {
        "id": "x4v0ZJYXbHpc"
      },
      "source": [
        "Indexing\n",
        "\n",
        "In this part, you will use indexing techniques to access part of data store in tensor **x**.\n",
        "x is a 3x3x3 matrix.\n",
        "\n",
        "For simplicity, we let (a, b, c) represents the a-th in the first axis, b-th in the second axis and c-th in the third axis, a, b and c start from 0, \n",
        "\n",
        "e.g get x at (0, 1, 1) is to get the first in the first axis, second in the second axis and second in the third axis of x, which returns 5. \n",
        "\n",
        "We also let getting x at (0:2, 1, 1) mean get the first two rows in the first axis, second in the second axis and second in the third axis.\n",
        "\n",
        "Hint: You should use standard NumPy-like indexing.\n"
      ]
    },
    {
      "cell_type": "code",
      "execution_count": 8,
      "metadata": {
        "colab": {
          "base_uri": "https://localhost:8080/"
        },
        "id": "p3b8frAGbXKp",
        "outputId": "71f0fb04-bc12-437a-dc60-e9b67ffbe0d0"
      },
      "outputs": [
        {
          "output_type": "stream",
          "name": "stdout",
          "text": [
            "tensor([[[ 1,  2,  3],\n",
            "         [ 4,  5,  6],\n",
            "         [ 7,  8,  9]],\n",
            "\n",
            "        [[10, 11, 12],\n",
            "         [13, 14, 15],\n",
            "         [16, 17, 18]],\n",
            "\n",
            "        [[19, 20, 21],\n",
            "         [22, 23, 24],\n",
            "         [25, 26, 27]]], dtype=torch.int32)\n",
            "tensor(5, dtype=torch.int32)\n",
            "tensor([ 5, 14], dtype=torch.int32)\n"
          ]
        }
      ],
      "source": [
        "x = torch.arange(1, 28, dtype=torch.int32).reshape(3, 3, 3)\n",
        "print(x)\n",
        "# Example: get (0, 1, 1) of x\n",
        "print(x[0, 1, 1])\n",
        "# Example: get (0:2, 1, 1) of x\n",
        "print(x[0:2, 1, 1])"
      ]
    },
    {
      "cell_type": "code",
      "execution_count": 9,
      "metadata": {
        "colab": {
          "base_uri": "https://localhost:8080/"
        },
        "id": "PU9HTsMRbRVW",
        "outputId": "bb2f7f8f-d142-45c0-8628-d20a4d3c63eb"
      },
      "outputs": [
        {
          "output_type": "stream",
          "name": "stdout",
          "text": [
            "tensor(17, dtype=torch.int32)\n",
            "tensor([5, 8], dtype=torch.int32)\n",
            "tensor([[[11, 12],\n",
            "         [14, 15],\n",
            "         [17, 18]],\n",
            "\n",
            "        [[20, 21],\n",
            "         [23, 24],\n",
            "         [26, 27]]], dtype=torch.int32)\n"
          ]
        }
      ],
      "source": [
        "# todo: get (1, 2, 1) of x\n",
        "print(x[1, 2, 1])\n",
        "# todo: get (0, 1:3, 1) of x\n",
        "print(x[0, 1:3, 1])\n",
        "# todo: get (1:3, 0:3, 1:3) of x\n",
        "print(x[1:3, 0:3, 1:3])"
      ]
    },
    {
      "cell_type": "markdown",
      "metadata": {
        "id": "XqILDc6Dn5_y"
      },
      "source": [
        "Resizing"
      ]
    },
    {
      "cell_type": "code",
      "execution_count": 10,
      "metadata": {
        "colab": {
          "base_uri": "https://localhost:8080/"
        },
        "id": "_IHNWtSjn7zW",
        "outputId": "fb664742-e3dc-4741-fd6b-4c34be36dd9c"
      },
      "outputs": [
        {
          "output_type": "stream",
          "name": "stdout",
          "text": [
            "tensor([[ 0,  1,  2,  3],\n",
            "        [ 4,  5,  6,  7],\n",
            "        [ 8,  9, 10, 11]])\n",
            "tensor([[ 0,  1,  2],\n",
            "        [ 3,  4,  5],\n",
            "        [ 6,  7,  8],\n",
            "        [ 9, 10, 11]])\n"
          ]
        },
        {
          "output_type": "stream",
          "name": "stderr",
          "text": [
            "/usr/local/lib/python3.9/dist-packages/torch/_tensor.py:775: UserWarning: non-inplace resize is deprecated\n",
            "  warnings.warn(\"non-inplace resize is deprecated\")\n"
          ]
        }
      ],
      "source": [
        "A = torch.arange(12)\n",
        "\n",
        "# todo: resize A to 3x4 using view\n",
        "print(A.view(3,4))\n",
        "# todo: resize A to 4x3 using reshape\n",
        "print(A.resize(4,3))"
      ]
    },
    {
      "cell_type": "markdown",
      "metadata": {
        "id": "MjIyg0k7jSJu"
      },
      "source": [
        "Question: what is the difference between view and reshape of a tensor?"
      ]
    },
    {
      "cell_type": "markdown",
      "metadata": {
        "id": "Z_LRanfFLDav"
      },
      "source": [
        "## Problem 2"
      ]
    },
    {
      "cell_type": "markdown",
      "metadata": {
        "id": "_UnzKwFZXBow"
      },
      "source": [
        "### (a) Prepare MNIST dataset\n",
        "\n",
        "Download MNIST dataset `mnist.mat` from the [google drive link](https://drive.google.com/file/d/13BJmpfohMGthH9gGRYgxMyBk3Y2J8vE8/view?usp=sharing) and put into your Google Drive.\n",
        "Mount your Google Drive to this notebook."
      ]
    },
    {
      "cell_type": "code",
      "execution_count": 11,
      "metadata": {
        "id": "2862HRnVLHSo"
      },
      "outputs": [],
      "source": [
        "# Show matplotlib graphs in your notebook\n",
        "%matplotlib inline"
      ]
    },
    {
      "cell_type": "code",
      "execution_count": 12,
      "metadata": {
        "colab": {
          "base_uri": "https://localhost:8080/"
        },
        "id": "Zz6Q1adZL3kU",
        "outputId": "db88542c-c144-4a63-8f97-9b2bf84aada3"
      },
      "outputs": [
        {
          "output_type": "stream",
          "name": "stdout",
          "text": [
            "Mounted at /content/gdrive\n"
          ]
        }
      ],
      "source": [
        "# Mount your Google Drive to this notebook.\n",
        "from google.colab import drive\n",
        "drive.mount('/content/gdrive')"
      ]
    },
    {
      "cell_type": "markdown",
      "metadata": {
        "id": "RmAN2QJyLDax"
      },
      "source": [
        "Load MNIST dataset from your Google Drive. \n",
        "\n",
        "Different from HW1, we downsample the data from 28x28 to 14x14.\n",
        "The training data (images) are contained in a matrix called `mnist['traindata']` with labels called `mnist['trainlabels']`. The testing data are in `mnist['testdata']`."
      ]
    },
    {
      "cell_type": "code",
      "execution_count": 13,
      "metadata": {
        "colab": {
          "base_uri": "https://localhost:8080/"
        },
        "id": "Al08q_GmLDax",
        "outputId": "2cda430d-2f6a-4441-bb4b-525c6cdc2af3"
      },
      "outputs": [
        {
          "output_type": "stream",
          "name": "stderr",
          "text": [
            "/usr/local/lib/python3.9/dist-packages/torchvision/transforms/functional.py:1603: UserWarning: The default value of the antialias parameter of all the resizing transforms (Resize(), RandomResizedCrop(), etc.) will change from None to True in v0.17, in order to be consistent across the PIL and Tensor backends. To suppress this warning, directly pass antialias=True (recommended, future default), antialias=None (current default, which means False for Tensors and True for PIL), or antialias=False (only works on Tensors - PIL will still use antialiasing). This also applies if you are using the inference transforms from the models weights: update the call to weights.transforms(antialias=True).\n",
            "  warnings.warn(\n"
          ]
        },
        {
          "output_type": "stream",
          "name": "stdout",
          "text": [
            "torch.Size([50000, 1, 14, 14])\n",
            "torch.Size([50000])\n",
            "torch.Size([10000, 1, 14, 14])\n",
            "torch.Size([10000])\n",
            "torch.Size([10000, 1, 14, 14])\n"
          ]
        }
      ],
      "source": [
        "from scipy.io import loadmat\n",
        "import torch\n",
        "import torchvision.transforms as T\n",
        "\n",
        "\n",
        "mnist = loadmat('/content/gdrive/My Drive/mnist.mat') # change the file path according to the path where you put mnist.mat on your Google Drive.\n",
        "\n",
        "# convert data to torch, normalize and reshape\n",
        "data = torch.reshape(torch.from_numpy(mnist['traindata']).to(torch.float)/255.0 - 0.5, (mnist['traindata'].shape[0], 1, 28, 28))\n",
        "testdata = torch.reshape(torch.from_numpy(mnist['testdata']).to(torch.float)/255.0 - 0.5, (mnist['testdata'].shape[0], 1, 28, 28))\n",
        "\n",
        "trainlabels = torch.from_numpy(mnist['trainlabels'].ravel()[:50000])\n",
        "validlabels = torch.from_numpy(mnist['trainlabels'].ravel()[50000:])\n",
        "\n",
        "resize = T.Resize((14,14))\n",
        "data = resize(data)\n",
        "testdata = resize(testdata)\n",
        "traindata = data[:50000]\n",
        "validdata = data[50000:]\n",
        "\n",
        "\n",
        "print(traindata.shape)\n",
        "print(trainlabels.shape)\n",
        "print(validdata.shape)\n",
        "print(validlabels.shape)\n",
        "print(testdata.shape)"
      ]
    },
    {
      "cell_type": "code",
      "execution_count": 14,
      "metadata": {
        "id": "k8OJw5cUlv0J"
      },
      "outputs": [],
      "source": [
        "from torch.utils.data import TensorDataset, DataLoader\n",
        "\n",
        "mnist_train = TensorDataset(traindata, trainlabels)\n",
        "mnist_valid = TensorDataset(validdata, validlabels)\n",
        "mnist_train_loader = DataLoader(mnist_train, batch_size=128)\n",
        "mnist_valid_loader = DataLoader(mnist_valid, batch_size=128)"
      ]
    },
    {
      "cell_type": "markdown",
      "metadata": {
        "id": "Jjj79ZkVLDa0"
      },
      "source": [
        "\n",
        "\n",
        "Visualize an image with label."
      ]
    },
    {
      "cell_type": "code",
      "execution_count": 15,
      "metadata": {
        "colab": {
          "base_uri": "https://localhost:8080/",
          "height": 983
        },
        "id": "xbRf0yp5LDa1",
        "outputId": "4e7a78d2-aacc-4dbc-91d8-f63e907b7ac1"
      },
      "outputs": [
        {
          "output_type": "display_data",
          "data": {
            "text/plain": [
              "<Figure size 1200x1200 with 25 Axes>"
            ],
            "image/png": "[encoded data removed]"
          },
          "metadata": {}
        }
      ],
      "source": [
        "import matplotlib.pyplot as plt\n",
        "from matplotlib import cm\n",
        "\n",
        "fig, axs = plt.subplots(5, 5, figsize = (12, 12))\n",
        "plt.gray()\n",
        "\n",
        "# loop through subplots and add mnist images\n",
        "for i, ax in enumerate(axs.flat):\n",
        "  ax.imshow((mnist_train[i][0] + 0.5 ).reshape((14, 14)), cmap=cm.gray_r)\n",
        "  ax.axis('off')\n",
        "  ax.set_title('Number {}'.format(trainlabels[i]))"
      ]
    },
    {
      "cell_type": "markdown",
      "metadata": {
        "id": "RxdJs7c3U2-7"
      },
      "source": [
        "(b) Multilayer Perceptron (MLP)\n",
        "\n",
        "Use MLP to achieve image classification.\n",
        "\n",
        "Define the following MLP using PyTorch to do image classification on MNIST dataset according to the below figure:\n",
        "Number of hidden layers: 3\n",
        "Number of neurons in the layers: [100, 50, 20]\n",
        "Activation functions: ReLU()\n",
        "Dropout for all hidden layers: 30%\n",
        "Output layer + softmax\n"
      ]
    },
    {
      "cell_type": "markdown",
      "metadata": {
        "id": "B87-tX7aVSQi"
      },
      "source": [
        "![Screen Shot 2022-09-23 at 11.48.00 AM.png](data:image/png;base64,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)"
      ]
    },
    {
      "cell_type": "markdown",
      "metadata": {
        "id": "DQOoObWBSiKg"
      },
      "source": [
        "To feed the data into the MLP, each image with dim of $1 \\times 14 \\times 14$ needs to be flatten into a vector with dim of $196.\n",
        "\n",
        "Just like how you transfer a Tensor onto the GPU, you transfer the neural net onto the GPU. Let's first define our device as the first visible cuda device if we have CUDA available.\n",
        "\n",
        "**Note**: remember to keep the logs of training the different models."
      ]
    },
    {
      "cell_type": "code",
      "execution_count": 16,
      "metadata": {
        "colab": {
          "base_uri": "https://localhost:8080/"
        },
        "id": "yvbWQt2Qv28G",
        "outputId": "ee7cc478-4681-40de-bf84-56b5a1aee296"
      },
      "outputs": [
        {
          "output_type": "stream",
          "name": "stdout",
          "text": [
            "cuda:0\n"
          ]
        }
      ],
      "source": [
        "# use GPU to train if possible\n",
        "device = torch.device(\"cuda:0\" if torch.cuda.is_available() else \"cpu\")\n",
        "print(device)"
      ]
    },
    {
      "cell_type": "code",
      "execution_count": 17,
      "metadata": {
        "id": "OHGFYOm8emtA"
      },
      "outputs": [],
      "source": [
        "import torch.nn as nn\n",
        "\n",
        "class MLP(nn.Module):\n",
        "  def __init__(self):\n",
        "    super(MLP, self).__init__()\n",
        "    # TODO: define your MLP\n",
        "    self.F = nn.Flatten()\n",
        "    self.fc1 = nn.Linear(196, 100)\n",
        "    self.fc2 = nn.Linear(100, 50)\n",
        "    self.fc3 = nn.Linear(50, 20)\n",
        "    self.fc4 = nn.Linear(20, 10)\n",
        "    self.relu = nn.ReLU()\n",
        "    self.dropout = nn.Dropout(p=0.3)\n",
        "    self.softmax = nn.Softmax(dim=1)\n",
        "\n",
        "  def forward(self, x):\n",
        "    # TODO: define your forward function\n",
        "    x = self.F(x) # flatten input tensor\n",
        "    x = self.dropout(self.relu(self.fc1(x)))\n",
        "    x = self.dropout(self.relu(self.fc2(x)))\n",
        "    x = self.dropout(self.relu(self.fc3(x)))\n",
        "    x = self.softmax(self.fc4(x))\n",
        "    return x\n"
      ]
    },
    {
      "cell_type": "code",
      "execution_count": 18,
      "metadata": {
        "id": "Dg8_7Mzd45HA"
      },
      "outputs": [],
      "source": [
        "# TODO: write your training code\n",
        "from tqdm import tqdm\n",
        "def train(model, device, train_loader, optimizer, criterion):\n",
        "  model.train()\n",
        "  for batch_idx, (data, target) in enumerate(tqdm(train_loader)):\n",
        "    data, target = data.to(device), target.to(device)\n",
        "    # print(data.shape)\n",
        "    # print(target.shape)\n",
        "    optimizer.zero_grad()\n",
        "    output = model(data)\n",
        "    # print(output)\n",
        "    loss = criterion(output, target)\n",
        "    loss.backward()\n",
        "    optimizer.step()\n",
        "\n",
        "\n",
        "\n",
        "# TODO: write your testing code\n",
        "def test(model, device, test_loader, criterion):\n",
        "  model.eval()\n",
        "  test_loss = 0\n",
        "  correct = 0\n",
        "  with torch.no_grad():\n",
        "    for data, target in test_loader:\n",
        "      data, target = data.to(device), target.to(device)\n",
        "      output = model(data)\n",
        "      test_loss += criterion(output, target).item() * data.size(0)\n",
        "      pred = output.argmax(dim=1, keepdim=True)\n",
        "      correct += pred.eq(target.view_as(pred)).sum().item()\n",
        "  test_loss /= len(test_loader.dataset)\n",
        "  accuracy = 100. * correct / len(test_loader.dataset)\n",
        "  print('Test set: Average loss: {:.4f}, Accuracy: {}/{} ({:.0f}%)'.format(\n",
        "      test_loss, correct, len(test_loader.dataset), accuracy))\n"
      ]
    },
    {
      "cell_type": "code",
      "execution_count": 19,
      "metadata": {
        "id": "kq7984jdBw_F"
      },
      "outputs": [],
      "source": [
        "mlp = MLP().to(device)  # operate on GPU"
      ]
    },
    {
      "cell_type": "markdown",
      "metadata": {
        "id": "nkkNxVUz7Ep1"
      },
      "source": [
        "Define a loss function and optimizer."
      ]
    },
    {
      "cell_type": "code",
      "execution_count": 20,
      "metadata": {
        "id": "O6_ABQ1DfJgg"
      },
      "outputs": [],
      "source": [
        "import torch.optim as optim\n",
        "\n",
        "# TODO: you can change loss function and optimizer\n",
        "criterion = nn.CrossEntropyLoss()\n",
        "optimizer = optim.Adam(mlp.parameters(), lr=0.001, betas=(0.9, 0.999), eps=1e-08, weight_decay=0)"
      ]
    },
    {
      "cell_type": "markdown",
      "metadata": {
        "id": "_axZ2tOWfe-Z"
      },
      "source": [
        "Train the network. \n",
        "\n",
        "This is when things start to get interesting.\n",
        "We simply have to loop over our data iterator, and feed the inputs to the\n",
        "network and optimize."
      ]
    },
    {
      "cell_type": "code",
      "execution_count": 21,
      "metadata": {
        "colab": {
          "base_uri": "https://localhost:8080/"
        },
        "id": "6jd0fDQ39sfG",
        "outputId": "94c87327-e2e4-4ddb-e0dc-e0f079184b8e"
      },
      "outputs": [
        {
          "output_type": "stream",
          "name": "stderr",
          "text": [
            "100%|██████████| 391/391 [00:04<00:00, 87.08it/s] \n",
            "100%|██████████| 391/391 [00:01<00:00, 240.29it/s]\n",
            "100%|██████████| 391/391 [00:01<00:00, 238.32it/s]\n",
            "100%|██████████| 391/391 [00:01<00:00, 344.87it/s]\n",
            "100%|██████████| 391/391 [00:01<00:00, 341.86it/s]\n",
            "100%|██████████| 391/391 [00:01<00:00, 335.00it/s]\n",
            "100%|██████████| 391/391 [00:01<00:00, 344.95it/s]\n",
            "100%|██████████| 391/391 [00:01<00:00, 347.57it/s]\n",
            "100%|██████████| 391/391 [00:01<00:00, 340.92it/s]\n",
            "100%|██████████| 391/391 [00:01<00:00, 339.38it/s]\n"
          ]
        }
      ],
      "source": [
        "n_epoch = 10\n",
        "# todo: use your train() to train the model\n",
        "for i in range(n_epoch):\n",
        "  train(mlp, device, mnist_train_loader, optimizer, criterion)"
      ]
    },
    {
      "cell_type": "markdown",
      "metadata": {
        "id": "U0CP36AOgCQR"
      },
      "source": [
        "Save the trained model. \n",
        "See [here](https://pytorch.org/docs/stable/notes/serialization.html)\n",
        "for more details on saving PyTorch models."
      ]
    },
    {
      "cell_type": "code",
      "execution_count": 22,
      "metadata": {
        "id": "spe6mioOgFPq"
      },
      "outputs": [],
      "source": [
        "PATH = '/content/gdrive/My Drive/mlp_mnist.pth'\n",
        "torch.save(mlp.state_dict(), PATH)"
      ]
    },
    {
      "cell_type": "markdown",
      "metadata": {
        "id": "ohEOKpQh7EqA"
      },
      "source": [
        "Load back in our saved model. (Note: saving and re-loading the model\n",
        "wasn't necessary here, we only did it to illustrate how to do so)\n",
        "\n"
      ]
    },
    {
      "cell_type": "code",
      "execution_count": 23,
      "metadata": {
        "colab": {
          "base_uri": "https://localhost:8080/"
        },
        "id": "zdW5-7Rf7EqA",
        "outputId": "a5c186a0-d009-4aaf-bc15-a21e8d7b86b4"
      },
      "outputs": [
        {
          "output_type": "execute_result",
          "data": {
            "text/plain": [
              "<All keys matched successfully>"
            ]
          },
          "metadata": {},
          "execution_count": 23
        }
      ],
      "source": [
        "mlp = MLP().to(device)\n",
        "mlp.load_state_dict(torch.load(PATH))"
      ]
    },
    {
      "cell_type": "markdown",
      "metadata": {
        "id": "uiwCEPnm9kVN"
      },
      "source": [
        "Evaluate the classfication performance on the testing set."
      ]
    },
    {
      "cell_type": "code",
      "execution_count": 24,
      "metadata": {
        "colab": {
          "base_uri": "https://localhost:8080/"
        },
        "id": "iRoECZtg9lBl",
        "outputId": "486f79dc-a285-4cb7-8098-81e5ef27c290"
      },
      "outputs": [
        {
          "output_type": "stream",
          "name": "stdout",
          "text": [
            "MLP(\n",
            "  (F): Flatten(start_dim=1, end_dim=-1)\n",
            "  (fc1): Linear(in_features=196, out_features=100, bias=True)\n",
            "  (fc2): Linear(in_features=100, out_features=50, bias=True)\n",
            "  (fc3): Linear(in_features=50, out_features=20, bias=True)\n",
            "  (fc4): Linear(in_features=20, out_features=10, bias=True)\n",
            "  (relu): ReLU()\n",
            "  (dropout): Dropout(p=0.3, inplace=False)\n",
            "  (softmax): Softmax(dim=1)\n",
            ")\n",
            "Test set: Average loss: 1.5301, Accuracy: 9306/10000 (93%)\n"
          ]
        }
      ],
      "source": [
        "print(mlp)\n",
        "# todo: use your test() to test your MLP on val set\n",
        "test(mlp, device, mnist_valid_loader, criterion)"
      ]
    },
    {
      "cell_type": "markdown",
      "metadata": {
        "id": "x8YcAStPfmBM"
      },
      "source": [
        "(c) Convolution Neural Network (CNN)"
      ]
    },
    {
      "cell_type": "markdown",
      "metadata": {
        "id": "NXLrcdbivC5C"
      },
      "source": [
        "Built a LeNet-5 using PyTorch to do image classification. Develop the CNN from the PyTorch NN tutorial introduced in class. \n",
        "\n",
        "Note: \n",
        "1. The input image dimension shown in the figure below is different from the one we have in this problem.\n",
        "2. Use kernel size=3 for both convolutions (Original LeNet-5 uses kernel size=5 as shown in the Fig.3 of HW2.pdf)\n"
      ]
    },
    {
      "cell_type": "code",
      "execution_count": 25,
      "metadata": {
        "id": "0nFR56-gvcgt"
      },
      "outputs": [],
      "source": [
        "import torch.nn as nn\n",
        "import torch.nn.functional as F\n",
        "\n",
        "class CNN(nn.Module):\n",
        "  def __init__(self):\n",
        "    super().__init__()\n",
        "    self.conv1 = nn.Conv2d(1, 6, kernel_size=3, stride=1)\n",
        "    self.pool1 = nn.MaxPool2d(kernel_size=2, stride=2)\n",
        "    self.conv2 = nn.Conv2d(6, 16, kernel_size=3, stride=1)\n",
        "    self.pool2 = nn.MaxPool2d(kernel_size=2, stride=2)\n",
        "    self.fc1 = nn.Linear(16*4, 120)\n",
        "    self.fc2 = nn.Linear(120, 84)\n",
        "    self.fc3 = nn.Linear(84, 10)\n",
        "    self.dropout = nn.Dropout(p=0.3)\n",
        "    # TODO: define your CNN\n",
        "\n",
        "  def forward(self, x):\n",
        "    # TODO: define your forward function\n",
        "    x = self.dropout(F.relu(self.conv1(x)))\n",
        "    x = self.pool1(x)\n",
        "    x = self.dropout(F.relu(self.conv2(x)))\n",
        "    x = self.pool2(x)\n",
        "    x = x.view(-1, 16*4)\n",
        "    x = self.dropout(F.relu(self.fc1(x)))\n",
        "    x = self.dropout(F.relu(self.fc2(x)))\n",
        "    x = self.fc3(x)\n",
        "    return x\n",
        "\n",
        "cnn_mnist = CNN().to(device)  # operate on GPU"
      ]
    },
    {
      "cell_type": "code",
      "execution_count": 26,
      "metadata": {
        "colab": {
          "base_uri": "https://localhost:8080/"
        },
        "id": "tEtKymsdyySz",
        "outputId": "65f7784e-62c8-4397-fb73-5482e82d7f1b"
      },
      "outputs": [
        {
          "output_type": "stream",
          "name": "stderr",
          "text": [
            "100%|██████████| 391/391 [00:07<00:00, 51.42it/s] \n",
            "100%|██████████| 391/391 [00:02<00:00, 135.14it/s]\n",
            "100%|██████████| 391/391 [00:01<00:00, 235.58it/s]\n",
            "100%|██████████| 391/391 [00:01<00:00, 199.49it/s]\n",
            "100%|██████████| 391/391 [00:01<00:00, 213.27it/s]\n",
            "100%|██████████| 391/391 [00:01<00:00, 206.26it/s]\n",
            "100%|██████████| 391/391 [00:01<00:00, 283.41it/s]\n",
            "100%|██████████| 391/391 [00:01<00:00, 297.62it/s]\n",
            "100%|██████████| 391/391 [00:01<00:00, 298.84it/s]\n",
            "100%|██████████| 391/391 [00:01<00:00, 301.11it/s]\n"
          ]
        }
      ],
      "source": [
        "# todo: similar to MLP, train your CNN model\n",
        "criterion = nn.CrossEntropyLoss()\n",
        "optimizer = optim.Adam(cnn_mnist.parameters(), lr=0.001, betas=(0.9, 0.999), eps=1e-08, weight_decay=0)\n",
        "\n",
        "for i in range(n_epoch):\n",
        "  train(cnn_mnist, device, mnist_train_loader, optimizer, criterion)"
      ]
    },
    {
      "cell_type": "code",
      "execution_count": 27,
      "metadata": {
        "id": "4Pl6XNsF0CVH",
        "colab": {
          "base_uri": "https://localhost:8080/"
        },
        "outputId": "4869ea6e-bb1a-4033-d8c5-dc1357c4ed4e"
      },
      "outputs": [
        {
          "output_type": "stream",
          "name": "stdout",
          "text": [
            "CNN(\n",
            "  (conv1): Conv2d(1, 6, kernel_size=(3, 3), stride=(1, 1))\n",
            "  (pool1): MaxPool2d(kernel_size=2, stride=2, padding=0, dilation=1, ceil_mode=False)\n",
            "  (conv2): Conv2d(6, 16, kernel_size=(3, 3), stride=(1, 1))\n",
            "  (pool2): MaxPool2d(kernel_size=2, stride=2, padding=0, dilation=1, ceil_mode=False)\n",
            "  (fc1): Linear(in_features=64, out_features=120, bias=True)\n",
            "  (fc2): Linear(in_features=120, out_features=84, bias=True)\n",
            "  (fc3): Linear(in_features=84, out_features=10, bias=True)\n",
            "  (dropout): Dropout(p=0.3, inplace=False)\n",
            ")\n",
            "Test set: Average loss: 0.1161, Accuracy: 9737/10000 (97%)\n"
          ]
        }
      ],
      "source": [
        "print(cnn_mnist)\n",
        "# todo: use your test() to test your CNN on val set\n",
        "test(cnn_mnist, device, mnist_valid_loader, criterion)"
      ]
    },
    {
      "cell_type": "markdown",
      "metadata": {
        "id": "AYERJpbVn-5x"
      },
      "source": [
        "## Problem 3: Image Classification by CNN"
      ]
    },
    {
      "cell_type": "markdown",
      "metadata": {
        "id": "Fj3L0DrOM88X"
      },
      "source": [
        "Write code to load and visualize the CIFAR-10 dataset.\n",
        "\n",
        "CIFAR-10 dataset has the classes (listed below): ‘airplane’, ‘automobile’, ‘bird’, ‘cat’, ‘deer’, ‘dog’, ‘frog’, ‘horse’, ‘ship’, ‘truck’. The images in CIFAR-10 are of size $3 \\times 32 \\times 32$, i.e. 3-channel color images of $32 \\times 32$ pixels in size. \n",
        "\n",
        "<h4>Note:</h4>\n",
        "The output of torchvision datasets are PILImage images of range [0, 1].\n",
        "We transform them to Tensors of normalized range [-1, 1]."
      ]
    },
    {
      "cell_type": "code",
      "execution_count": null,
      "metadata": {
        "colab": {
          "base_uri": "https://localhost:8080/"
        },
        "id": "mqnizXadNh8b",
        "outputId": "6f239b4e-3ff1-44d9-9d6d-9e050fa65b3f"
      },
      "outputs": [
        {
          "name": "stdout",
          "output_type": "stream",
          "text": [
            "Files already downloaded and verified\n",
            "Files already downloaded and verified\n"
          ]
        }
      ],
      "source": [
        "from torchvision import transforms, datasets\n",
        "\n",
        "classes = ('plane', 'car', 'bird', 'cat', 'deer', 'dog', 'frog', 'horse', \n",
        "           'ship', 'truck')\n",
        "transform = transforms.Compose(\n",
        "    [transforms.ToTensor(),\n",
        "     transforms.Normalize((0.5, 0.5, 0.5), (0.5, 0.5, 0.5))])\n",
        "\n",
        "cifar10_trainset = datasets.CIFAR10(root='./data/', train=True, download=True, transform=transform)\n",
        "cifar10_testset = datasets.CIFAR10(root='./data/', train=False, download=True, transform=transform)\n",
        "\n",
        "cifar_loader = DataLoader(cifar10_trainset, batch_size=len(cifar10_trainset), shuffle=False)\n",
        "cifar_test_loader = DataLoader(cifar10_testset, batch_size=len(cifar10_testset), shuffle=False)"
      ]
    },
    {
      "cell_type": "code",
      "execution_count": null,
      "metadata": {
        "colab": {
          "base_uri": "https://localhost:8080/",
          "height": 585
        },
        "id": "igESHithODja",
        "outputId": "3861d913-10be-41ad-a7bd-6c29cd2d4f27"
      },
      "outputs": [
        {
          "data": {
            "image/png": "[encoded data removed]",
            "text/plain": [
              "<Figure size 576x576 with 9 Axes>"
            ]
          },
          "metadata": {
            "needs_background": "light"
          },
          "output_type": "display_data"
        }
      ],
      "source": [
        "import numpy as np\n",
        "import matplotlib.pyplot as plt\n",
        "from matplotlib import cm\n",
        "\n",
        "def cifar_imshow(img):\n",
        "  img = img / 2 + 0.5     # unnormalize\n",
        "  npimg = img.numpy()\n",
        "  return np.transpose(npimg, (1, 2, 0))\n",
        "\n",
        "# TODO: visualize some samples in the CIFAR-10 dataset\n",
        "fig, axes = plt.subplots(nrows=3, ncols=3, figsize=(8,8))\n",
        "for i, ax in enumerate(axes.flat):\n",
        "    idx = np.random.randint(len(cifar10_trainset))\n",
        "    img, label = cifar10_trainset[idx]\n",
        "    ax.imshow(cifar_imshow(img))\n",
        "    ax.set_title(f\"Label: {label}\")\n",
        "    ax.axis('off')\n",
        "plt.tight_layout()\n",
        "plt.show()"
      ]
    },
    {
      "cell_type": "markdown",
      "metadata": {
        "id": "Qc4DHtXvjocy"
      },
      "source": [
        "#### Data Augmentation"
      ]
    },
    {
      "cell_type": "code",
      "execution_count": null,
      "metadata": {
        "colab": {
          "base_uri": "https://localhost:8080/"
        },
        "id": "IhG9dwnLjs-J",
        "outputId": "e7321ff3-3c04-4b48-85c8-eb5fc65fe3ed"
      },
      "outputs": [
        {
          "name": "stdout",
          "output_type": "stream",
          "text": [
            "Files already downloaded and verified\n",
            "Files already downloaded and verified\n",
            "Files already downloaded and verified\n",
            "Files already downloaded and verified\n",
            "Files already downloaded and verified\n",
            "Files already downloaded and verified\n"
          ]
        }
      ],
      "source": [
        "from torch.utils.data import ConcatDataset\n",
        "\n",
        "transform1 = transforms.Compose(\n",
        "    [transforms.ToTensor(),\n",
        "     transforms.Normalize((0.5, 0.5, 0.5), (0.5, 0.5, 0.5))])\n",
        "\n",
        "# todo: Implements transforms\n",
        "\n",
        "# Shifting: randomly shift the images up/down and left/right by within 10%.\n",
        "transform2 = transforms.Compose(\n",
        "    [transforms.ToTensor(),\n",
        "     transforms.RandomAffine(degrees=0, translate=(0.1,0.1)),\n",
        "     transforms.Normalize((0.5, 0.5, 0.5), (0.5, 0.5, 0.5))])\n",
        "\n",
        "# Rotating: randomly rotate the images by some angles.\n",
        "transform3 = transforms.Compose(\n",
        "    [transforms.ToTensor(),\n",
        "     transforms.RandomRotation(degrees=20),\n",
        "     transforms.Normalize((0.5, 0.5, 0.5), (0.5, 0.5, 0.5))])\n",
        "\n",
        "# Flipping: horizontally flip the images.\n",
        "transform4 = transforms.Compose(\n",
        "    [transforms.ToTensor(),\n",
        "     transforms.RandomHorizontalFlip(p=0.5),\n",
        "     transforms.Normalize((0.5, 0.5, 0.5), (0.5, 0.5, 0.5))])\n",
        "\n",
        "# Adding Noise: randomly add some small Gaussian noise to the images.\n",
        "transform5 = transforms.Compose(\n",
        "    [transforms.ToTensor(),\n",
        "     transforms.RandomApply([transforms.GaussianBlur(kernel_size=3)], p=0.2),\n",
        "     transforms.Normalize((0.5, 0.5, 0.5), (0.5, 0.5, 0.5))])\n",
        "\n",
        "transform_list = [transform1, transform2, transform3, transform4, transform5]\n",
        "augmented_dataset = []\n",
        "for t in transform_list:\n",
        "  augmented_dataset.append(datasets.CIFAR10(root='./data/', train=True, download=True, transform=t))\n",
        "\n",
        "cifar_train_dataset = ConcatDataset(augmented_dataset)\n",
        "cifar_train_loader = DataLoader(cifar_train_dataset, batch_size=128, shuffle=False)\n",
        "cifar10_testset = datasets.CIFAR10(root='./data/', train=False, download=True, transform=transform1)\n",
        "cifar_test_loader = DataLoader(cifar10_testset, batch_size=128, shuffle=False)"
      ]
    },
    {
      "cell_type": "markdown",
      "metadata": {
        "id": "oeOA4vRbV3Pq"
      },
      "source": [
        "Define a CNN to do classification on CIFAR-10 dataset. You can build a CNN from the previous problem and modify it to take 3-channel images (instead of 1-channel images as it was defined).\n",
        "\n",
        "**Note**: remember to keep the logs of training the different models."
      ]
    },
    {
      "cell_type": "markdown",
      "metadata": {
        "id": "FWIdpUo_n65F"
      },
      "source": [
        "(1) Define a CNN using PyTorch to do image classification. Develop the CNN from the previous PyTorch NN tutorial."
      ]
    },
    {
      "cell_type": "code",
      "execution_count": null,
      "metadata": {
        "id": "TzXPX4rm7Epz"
      },
      "outputs": [],
      "source": [
        "import torch.nn as nn\n",
        "import torch.nn.functional as F\n",
        "\n",
        "class CNN1(nn.Module):\n",
        "  def __init__(self):\n",
        "    super().__init__()\n",
        "    # TODO: define your CNN\n",
        "    self.conv1 = nn.Conv2d(3, 64, padding=1,kernel_size=3, stride=1)\n",
        "    self.conv2 = nn.Conv2d(64, 64, padding=1,kernel_size=3, stride=1)\n",
        "    self.pool1 = nn.MaxPool2d(kernel_size=2, stride=2)\n",
        "    self.bat1 = nn.BatchNorm2d(64)\n",
        "    self.conv3 = nn.Conv2d(64, 128, kernel_size=3, stride=1)\n",
        "    self.conv4 = nn.Conv2d(128, 128, kernel_size=3, stride=1)\n",
        "    self.pool2 = nn.MaxPool2d(kernel_size=2, stride=2)\n",
        "    self.bat2 = nn.BatchNorm2d(128)\n",
        "    self.conv5 = nn.Conv2d(128, 256, kernel_size=3, stride=1)\n",
        "    self.conv6 = nn.Conv2d(256, 256, kernel_size=3, stride=1)\n",
        "    self.pool3 = nn.MaxPool2d(kernel_size=2, stride=2)\n",
        "    self.bat3 = nn.BatchNorm2d(256)\n",
        "    self.flatten = nn.Flatten()\n",
        "    self.fc1 = nn.Linear(256, 120)\n",
        "    self.bat6 = nn.BatchNorm1d(120)\n",
        "    self.fc2 = nn.Linear(120, 84)\n",
        "    self.bat7 = nn.BatchNorm1d(84)\n",
        "    self.fc3 = nn.Linear(84, 10)\n",
        "    \n",
        "    \n",
        "\n",
        "  def forward(self, x):\n",
        "    # TODO: define your forward function\n",
        "    # print(x.shape)\n",
        "    x = F.relu(self.conv1(x))\n",
        "    x = F.relu(self.conv2(x))\n",
        "    x = self.pool1(x)\n",
        "    x = self.bat1(x)\n",
        "    x = F.relu(self.conv3(x))\n",
        "    x = F.relu(self.conv4(x))\n",
        "    x = self.pool2(x)\n",
        "    x = self.bat2(x)\n",
        "    x = F.relu(self.conv5(x))\n",
        "    x = F.relu(self.conv6(x))\n",
        "    x = self.pool3(x)\n",
        "    x = self.bat3(x)\n",
        "    # print(x.shape)\n",
        "    x = self.flatten(x)\n",
        "    # print(x.shape)\n",
        "    x = F.relu(self.fc1(x))\n",
        "    x = self.bat6(x)\n",
        "    x = F.relu(self.fc2(x))\n",
        "    x = self.bat7(x)\n",
        "    x = self.fc3(x)\n",
        "    # print(x.shape)\n",
        "    return x\n",
        "\n",
        "cnn1 = CNN1().to(device)  # operate on GPU"
      ]
    },
    {
      "cell_type": "markdown",
      "metadata": {
        "id": "hfi4oC0bhHxg"
      },
      "source": [
        "Define a loss function and optimizer."
      ]
    },
    {
      "cell_type": "code",
      "execution_count": null,
      "metadata": {
        "id": "lIikPKNI7Ep2"
      },
      "outputs": [],
      "source": [
        "import torch.optim as optim\n",
        "\n",
        "# TODO: you can change loss function and optimizer\n",
        "criterion = nn.CrossEntropyLoss()\n",
        "optimizer = optim.AdamW(cnn1.parameters(), lr=0.001, betas=(0.9, 0.999), eps=1e-08, weight_decay=0)"
      ]
    },
    {
      "cell_type": "markdown",
      "metadata": {
        "id": "bzvExFSVhL3x"
      },
      "source": [
        "Train the network."
      ]
    },
    {
      "cell_type": "code",
      "execution_count": null,
      "metadata": {
        "colab": {
          "base_uri": "https://localhost:8080/",
          "height": 397
        },
        "id": "uWjbkl5o7Ep5",
        "outputId": "0f4f7283-1e32-438c-8e9f-92a360fd3f53"
      },
      "outputs": [
        {
          "name": "stderr",
          "output_type": "stream",
          "text": [
            "100%|███████████████████████████████████████| 1954/1954 [01:13<00:00, 26.49it/s]\n",
            "100%|███████████████████████████████████████| 1954/1954 [01:14<00:00, 26.17it/s]\n",
            "100%|███████████████████████████████████████| 1954/1954 [01:13<00:00, 26.57it/s]\n",
            "100%|███████████████████████████████████████| 1954/1954 [01:17<00:00, 25.29it/s]\n",
            "100%|███████████████████████████████████████| 1954/1954 [01:15<00:00, 25.73it/s]\n",
            "100%|███████████████████████████████████████| 1954/1954 [01:16<00:00, 25.52it/s]\n",
            "100%|███████████████████████████████████████| 1954/1954 [01:15<00:00, 25.96it/s]\n",
            "100%|███████████████████████████████████████| 1954/1954 [01:17<00:00, 25.35it/s]\n",
            "100%|███████████████████████████████████████| 1954/1954 [01:14<00:00, 26.10it/s]\n",
            "100%|███████████████████████████████████████| 1954/1954 [01:15<00:00, 25.95it/s]\n"
          ]
        }
      ],
      "source": [
        "# todo: use your train() to train your cnn1\n",
        "n_epoch = 10\n",
        "for i in range(n_epoch):\n",
        "  train(cnn1, device, cifar_train_loader, optimizer, criterion)\n",
        "\n",
        "\n"
      ]
    },
    {
      "cell_type": "markdown",
      "metadata": {
        "id": "-RGeRQxR7EqG"
      },
      "source": [
        "Evaluate the classfication performance on the testing set."
      ]
    },
    {
      "cell_type": "code",
      "execution_count": null,
      "metadata": {
        "id": "9IERp19p7EqH",
        "outputId": "f506f1b0-50a5-4305-b250-77d4936c2900"
      },
      "outputs": [
        {
          "name": "stdout",
          "output_type": "stream",
          "text": [
            "Test set: Average loss: 0.5432, Accuracy: 8711/10000 (87%)\n"
          ]
        }
      ],
      "source": [
        "# todo: use your test() to test your cnn1\n",
        "test(cnn1, device, cifar_test_loader, criterion)"
      ]
    },
    {
      "cell_type": "markdown",
      "metadata": {
        "id": "CFCCqT5LAJ29"
      },
      "source": [
        "(2) Try different network parameters/configurations (at least 5 combinations). \n",
        "\n",
        "You should try to achieve at least **80%** accuracy on the CIFAR-10 testing set using one of your network configuration.\n"
      ]
    },
    {
      "cell_type": "code",
      "execution_count": null,
      "metadata": {
        "id": "sjBbR41hBzGs"
      },
      "outputs": [],
      "source": [
        "class CNN2(nn.Module):\n",
        "  def __init__(self):\n",
        "    super().__init__()\n",
        "    # TODO: define your CNN\n",
        "    self.conv1 = nn.Conv2d(3, 64, padding=1,kernel_size=3, stride=1)\n",
        "    self.conv2 = nn.Conv2d(64, 64, padding=1,kernel_size=3, stride=1)\n",
        "    # self.pool1 = nn.MaxPool2d(kernel_size=2, stride=2)\n",
        "    self.bat1 = nn.BatchNorm2d(64)\n",
        "    self.conv3 = nn.Conv2d(64, 128, kernel_size=3, stride=1)\n",
        "    self.conv4 = nn.Conv2d(128, 128, kernel_size=3, stride=1)\n",
        "    # self.pool2 = nn.MaxPool2d(kernel_size=2, stride=2)\n",
        "    self.bat2 = nn.BatchNorm2d(128)\n",
        "    self.conv5 = nn.Conv2d(128, 256, kernel_size=3, stride=1)\n",
        "    self.conv6 = nn.Conv2d(256, 256, kernel_size=3, stride=1)\n",
        "    # self.pool3 = nn.MaxPool2d(kernel_size=2, stride=2)\n",
        "    self.bat3 = nn.BatchNorm2d(256)\n",
        "    self.flatten = nn.Flatten()\n",
        "    self.fc1 = nn.Linear(147456, 120)\n",
        "    self.bat6 = nn.BatchNorm1d(120)\n",
        "    self.fc2 = nn.Linear(120, 84)\n",
        "    self.bat7 = nn.BatchNorm1d(84)\n",
        "    self.fc3 = nn.Linear(84, 10)\n",
        "    \n",
        "    \n",
        "\n",
        "  def forward(self, x):\n",
        "    # TODO: define your forward function\n",
        "    # print(x.shape)\n",
        "    x = F.relu(self.conv1(x))\n",
        "    x = F.relu(self.conv2(x))\n",
        "    # x = self.pool1(x)\n",
        "    x = self.bat1(x)\n",
        "    x = F.relu(self.conv3(x))\n",
        "    x = F.relu(self.conv4(x))\n",
        "    # x = self.pool2(x)\n",
        "    x = self.bat2(x)\n",
        "    x = F.relu(self.conv5(x))\n",
        "    x = F.relu(self.conv6(x))\n",
        "    # x = self.pool3(x)\n",
        "    # x = self.bat3(x)\n",
        "    # print(x.shape)\n",
        "    x = self.flatten(x)\n",
        "    # print(x.shape)\n",
        "    x = F.relu(self.fc1(x))\n",
        "    x = self.bat6(x)\n",
        "    x = F.relu(self.fc2(x))\n",
        "    x = self.bat7(x)\n",
        "    x = self.fc3(x)\n",
        "    # print(x.shape)\n",
        "    return x\n",
        "\n",
        "cnn2 = CNN2().to(device)  # operate on GPU"
      ]
    },
    {
      "cell_type": "code",
      "execution_count": null,
      "metadata": {
        "id": "oEGXio7SB38M"
      },
      "outputs": [],
      "source": [
        "import torch.optim as optim\n",
        "\n",
        "# TODO: you can change loss function and optimizer\n",
        "criterion = nn.CrossEntropyLoss()\n",
        "optimizer = optim.AdamW(cnn2.parameters(), lr=0.001)"
      ]
    },
    {
      "cell_type": "code",
      "execution_count": null,
      "metadata": {
        "colab": {
          "base_uri": "https://localhost:8080/"
        },
        "id": "0ueeGd_pCUIZ",
        "outputId": "3200d0f1-bf5e-4ca2-c3d0-f7124a030776"
      },
      "outputs": [
        {
          "name": "stderr",
          "output_type": "stream",
          "text": [
            "100%|███████████████████████████████████████| 1954/1954 [01:20<00:00, 24.30it/s]\n",
            "100%|███████████████████████████████████████| 1954/1954 [01:20<00:00, 24.39it/s]\n",
            "100%|███████████████████████████████████████| 1954/1954 [01:20<00:00, 24.20it/s]\n",
            "100%|███████████████████████████████████████| 1954/1954 [01:19<00:00, 24.63it/s]\n",
            "100%|███████████████████████████████████████| 1954/1954 [01:20<00:00, 24.40it/s]\n",
            "100%|███████████████████████████████████████| 1954/1954 [01:20<00:00, 24.23it/s]\n",
            "100%|███████████████████████████████████████| 1954/1954 [01:20<00:00, 24.27it/s]\n",
            "100%|███████████████████████████████████████| 1954/1954 [01:21<00:00, 23.97it/s]\n",
            "100%|███████████████████████████████████████| 1954/1954 [01:21<00:00, 23.90it/s]\n",
            "100%|███████████████████████████████████████| 1954/1954 [01:19<00:00, 24.67it/s]\n"
          ]
        }
      ],
      "source": [
        "for i in range(n_epoch):\n",
        "  train(cnn2, device, cifar_train_loader, optimizer, criterion)"
      ]
    },
    {
      "cell_type": "code",
      "execution_count": null,
      "metadata": {
        "id": "fYrHcy-BCV20",
        "outputId": "b3c74245-c805-4745-e622-837eb0fca967"
      },
      "outputs": [
        {
          "name": "stdout",
          "output_type": "stream",
          "text": [
            "Test set: Average loss: 0.5420, Accuracy: 8586/10000 (86%)\n"
          ]
        }
      ],
      "source": [
        "test(cnn2, device, cifar_test_loader, criterion)"
      ]
    },
    {
      "cell_type": "code",
      "execution_count": null,
      "metadata": {
        "id": "RXAzLX9HNyK4"
      },
      "outputs": [],
      "source": [
        "class CNN3(nn.Module):\n",
        "  def __init__(self):\n",
        "    super().__init__()\n",
        "    # TODO: define your CNN\n",
        "    self.conv1 = nn.Conv2d(3, 64, padding=1,kernel_size=3, stride=1)\n",
        "    self.conv2 = nn.Conv2d(64, 64, padding=1,kernel_size=3, stride=1)\n",
        "    self.pool1 = nn.MaxPool2d(kernel_size=2, stride=2)\n",
        "    self.bat1 = nn.BatchNorm2d(64)\n",
        "    self.conv3 = nn.Conv2d(64, 128, kernel_size=3, stride=1)\n",
        "    self.conv4 = nn.Conv2d(128, 128, kernel_size=3, stride=1)\n",
        "    self.pool2 = nn.MaxPool2d(kernel_size=2, stride=2)\n",
        "    self.bat2 = nn.BatchNorm2d(128)\n",
        "    self.conv5 = nn.Conv2d(128, 256, kernel_size=3, stride=1)\n",
        "    self.conv6 = nn.Conv2d(256, 256, kernel_size=3, stride=1)\n",
        "    self.pool3 = nn.MaxPool2d(kernel_size=2, stride=2)\n",
        "    self.dropout1 = nn.Dropout(0.3)\n",
        "    self.bat3 = nn.BatchNorm2d(256)\n",
        "    self.flatten = nn.Flatten()\n",
        "    self.fc1 = nn.Linear(256, 120)\n",
        "    self.bat6 = nn.BatchNorm1d(120)\n",
        "    self.fc2 = nn.Linear(120, 84)\n",
        "    self.bat7 = nn.BatchNorm1d(84)\n",
        "    self.fc3 = nn.Linear(84, 10)\n",
        "    \n",
        "    \n",
        "\n",
        "  def forward(self, x):\n",
        "    # TODO: define your forward function\n",
        "    # print(x.shape)\n",
        "    x = F.relu(self.conv1(x))\n",
        "    x = F.relu(self.conv2(x))\n",
        "    x = self.pool1(x)\n",
        "    x = self.dropout1(x)\n",
        "    x = self.bat1(x)\n",
        "    x = F.relu(self.conv3(x))\n",
        "    x = F.relu(self.conv4(x))\n",
        "    x = self.pool2(x)\n",
        "    x = self.dropout1(x)\n",
        "    x = self.bat2(x)\n",
        "    x = F.relu(self.conv5(x))\n",
        "    x = F.relu(self.conv6(x))\n",
        "    x = self.pool3(x)\n",
        "    x = self.dropout1(x)\n",
        "    x = self.bat3(x)\n",
        "    # print(x.shape)\n",
        "    x = self.flatten(x)\n",
        "    # print(x.shape)\n",
        "    x = F.relu(self.fc1(x))\n",
        "    x = self.bat6(x)\n",
        "    x = F.relu(self.fc2(x))\n",
        "    x = self.bat7(x)\n",
        "    x = self.fc3(x)\n",
        "    # print(x.shape)\n",
        "    return x\n",
        "\n",
        "cnn3 = CNN3().to(device)  # operate on GPU"
      ]
    },
    {
      "cell_type": "code",
      "execution_count": null,
      "metadata": {
        "id": "G0RSD2MNNyK4"
      },
      "outputs": [],
      "source": [
        "import torch.optim as optim\n",
        "\n",
        "# TODO: you can change loss function and optimizer\n",
        "criterion = nn.CrossEntropyLoss()\n",
        "optimizer = optim.AdamW(cnn3.parameters(), lr=0.001)"
      ]
    },
    {
      "cell_type": "code",
      "execution_count": null,
      "metadata": {
        "id": "p3_-9BTDNyK5",
        "outputId": "7f0a860e-dc25-44d1-f911-aa83dc20a321"
      },
      "outputs": [
        {
          "name": "stderr",
          "output_type": "stream",
          "text": [
            "100%|███████████████████████████████████████| 1954/1954 [01:15<00:00, 25.97it/s]\n",
            "100%|███████████████████████████████████████| 1954/1954 [01:16<00:00, 25.45it/s]\n",
            "100%|███████████████████████████████████████| 1954/1954 [01:17<00:00, 25.32it/s]\n",
            "100%|███████████████████████████████████████| 1954/1954 [01:16<00:00, 25.63it/s]\n",
            "100%|███████████████████████████████████████| 1954/1954 [01:16<00:00, 25.48it/s]\n",
            "100%|███████████████████████████████████████| 1954/1954 [01:15<00:00, 25.92it/s]\n",
            "100%|███████████████████████████████████████| 1954/1954 [01:16<00:00, 25.53it/s]\n",
            "100%|███████████████████████████████████████| 1954/1954 [01:16<00:00, 25.61it/s]\n",
            "100%|███████████████████████████████████████| 1954/1954 [01:16<00:00, 25.51it/s]\n",
            "100%|███████████████████████████████████████| 1954/1954 [01:17<00:00, 25.15it/s]\n"
          ]
        }
      ],
      "source": [
        "for i in range(n_epoch):\n",
        "  train(cnn3, device, cifar_train_loader, optimizer, criterion)"
      ]
    },
    {
      "cell_type": "code",
      "execution_count": null,
      "metadata": {
        "id": "lHg4zfYiNyK5",
        "outputId": "0abb5dde-a832-4a87-f08e-519b65b0a27e"
      },
      "outputs": [
        {
          "name": "stdout",
          "output_type": "stream",
          "text": [
            "Test set: Average loss: 0.3832, Accuracy: 8878/10000 (89%)\n"
          ]
        }
      ],
      "source": [
        "test(cnn3, device, cifar_test_loader, criterion)"
      ]
    },
    {
      "cell_type": "code",
      "execution_count": null,
      "metadata": {
        "id": "VjiGEMAPNyK5"
      },
      "outputs": [],
      "source": [
        "import torch.optim as optim\n",
        "cnn4 = CNN3().to(device)\n",
        "# TODO: you can change loss function and optimizer\n",
        "criterion = nn.CrossEntropyLoss()\n",
        "optimizer = optim.SGD(cnn4.parameters(), lr=0.001)"
      ]
    },
    {
      "cell_type": "code",
      "execution_count": null,
      "metadata": {
        "id": "cRnak8EjNyK5",
        "outputId": "4c190682-26f0-476b-e55a-539c369c784f"
      },
      "outputs": [
        {
          "name": "stderr",
          "output_type": "stream",
          "text": [
            "100%|███████████████████████████████████████| 1954/1954 [01:13<00:00, 26.43it/s]\n",
            "100%|███████████████████████████████████████| 1954/1954 [01:13<00:00, 26.65it/s]\n",
            "100%|███████████████████████████████████████| 1954/1954 [01:14<00:00, 26.37it/s]\n",
            "100%|███████████████████████████████████████| 1954/1954 [01:13<00:00, 26.70it/s]\n",
            "100%|███████████████████████████████████████| 1954/1954 [01:12<00:00, 27.09it/s]\n",
            "100%|███████████████████████████████████████| 1954/1954 [01:11<00:00, 27.18it/s]\n",
            "100%|███████████████████████████████████████| 1954/1954 [01:10<00:00, 27.75it/s]\n",
            "100%|███████████████████████████████████████| 1954/1954 [01:11<00:00, 27.42it/s]\n",
            "100%|███████████████████████████████████████| 1954/1954 [01:09<00:00, 28.27it/s]\n",
            "100%|███████████████████████████████████████| 1954/1954 [01:11<00:00, 27.31it/s]\n"
          ]
        },
        {
          "name": "stdout",
          "output_type": "stream",
          "text": [
            "Test set: Average loss: 0.8843, Accuracy: 6883/10000 (69%)\n"
          ]
        }
      ],
      "source": [
        "for i in range(n_epoch):\n",
        "  train(cnn4, device, cifar_train_loader, optimizer, criterion)\n",
        "test(cnn4, device, cifar_test_loader, criterion)"
      ]
    },
    {
      "cell_type": "code",
      "execution_count": null,
      "metadata": {
        "id": "qNXtEi67NyK5"
      },
      "outputs": [],
      "source": [
        "import torch.optim as optim\n",
        "\n",
        "cnn5 = CNN3().to(device)\n",
        "# TODO: you can change loss function and optimizer\n",
        "criterion = nn.CrossEntropyLoss()\n",
        "optimizer = optim.Adam(cnn5.parameters(), lr=0.001)"
      ]
    },
    {
      "cell_type": "code",
      "execution_count": null,
      "metadata": {
        "id": "tvhRudkVNyK5",
        "outputId": "b2ba1f42-7a5a-4d3a-e4dd-e7591976013c"
      },
      "outputs": [
        {
          "name": "stderr",
          "output_type": "stream",
          "text": [
            "100%|███████████████████████████████████████| 1954/1954 [01:12<00:00, 26.99it/s]\n",
            "100%|███████████████████████████████████████| 1954/1954 [01:12<00:00, 27.07it/s]\n",
            "100%|███████████████████████████████████████| 1954/1954 [01:15<00:00, 26.05it/s]\n",
            "100%|███████████████████████████████████████| 1954/1954 [01:13<00:00, 26.41it/s]\n",
            "100%|███████████████████████████████████████| 1954/1954 [01:13<00:00, 26.64it/s]\n",
            "100%|███████████████████████████████████████| 1954/1954 [01:13<00:00, 26.57it/s]\n",
            "100%|███████████████████████████████████████| 1954/1954 [01:13<00:00, 26.53it/s]\n",
            "100%|███████████████████████████████████████| 1954/1954 [01:13<00:00, 26.76it/s]\n",
            "100%|███████████████████████████████████████| 1954/1954 [01:14<00:00, 26.12it/s]\n",
            "100%|███████████████████████████████████████| 1954/1954 [01:12<00:00, 26.77it/s]\n"
          ]
        },
        {
          "name": "stdout",
          "output_type": "stream",
          "text": [
            "Test set: Average loss: 0.3830, Accuracy: 8854/10000 (89%)\n"
          ]
        }
      ],
      "source": [
        "for i in range(n_epoch):\n",
        "  train(cnn5, device, cifar_train_loader, optimizer, criterion)\n",
        "test(cnn5, device, cifar_test_loader, criterion)"
      ]
    },
    {
      "cell_type": "markdown",
      "metadata": {
        "id": "ueQ8iN1CNyK5"
      },
      "source": [
        "| model | loss function | opimizer | epoch | Accuracy |\n",
        "| --- | --- | --- | --- | --- |\n",
        "| CNN1 | CrossEntropyLoss | AdamW | 10 | 87% |\n",
        "| CNN1 w/o maxpoolling | CrossEntropyLoss | AdamW | 10 | 86% |\n",
        "| CNN1 with dropout layer | CrossEntropyLoss | AdamW | 10 | 89% |\n",
        "| CNN1 with dropout layer | CrossEntropyLoss | SGD | 10 | 69% |\n",
        "| CNN1 with dropout layer | CrossEntropyLoss | Adam | 10 | 89% |"
      ]
    },
    {
      "cell_type": "markdown",
      "metadata": {
        "id": "S2RLIjq3nfoC"
      },
      "source": [
        "Performances using different configurations\n",
        "\n",
        "todo: past your performance v.s different network configurations in a table."
      ]
    },
    {
      "cell_type": "markdown",
      "metadata": {
        "id": "gsOEhNpuzhlg"
      },
      "source": [
        "####  Discussion"
      ]
    },
    {
      "cell_type": "markdown",
      "metadata": {
        "id": "frupe8HZ1ylk"
      },
      "source": [
        "(1) Which framework can achieve higher accuracy, MLP or CNN? Briefly explain the reason.\n",
        "\n",
        "(2) Based on your experiments in Problem3, which parameter can potentially affect your performance most?\n",
        "\n"
      ]
    },
    {
      "cell_type": "markdown",
      "metadata": {
        "id": "xcxPLI8JNyK6"
      },
      "source": [
        "(1) CNNs are generally better suited for tasks where the input data has a spatial structure, such as images or video, and can achieve higher accuracy as a result. MLPs are typically used for classification tasks where the input data is represented as a vector of features, but they do not take into account the spatial relationships between the features, which can limit their accuracy on tasks such as image classification."
      ]
    },
    {
      "cell_type": "markdown",
      "metadata": {
        "id": "zp_79_L7NyK6"
      },
      "source": [
        "(2) Based on my experiments, it is evident that the optimizer had a significant impact on my accuracy. For example, when I used the same model with the SGD optimizer, I only obtained a % accuracy, but when I used the Adam optimizer, I obtained an 89% accuracy."
      ]
    },
    {
      "cell_type": "code",
      "execution_count": null,
      "metadata": {
        "id": "4KCG5O4gNyK6"
      },
      "outputs": [],
      "source": []
    }
  ],
  "metadata": {
    "accelerator": "GPU",
    "colab": {
      "provenance": []
    },
    "gpuClass": "standard",
    "kernelspec": {
      "display_name": "Python 3 (ipykernel)",
      "language": "python",
      "name": "python3"
    },
    "language_info": {
      "codemirror_mode": {
        "name": "ipython",
        "version": 3
      },
      "file_extension": ".py",
      "mimetype": "text/x-python",
      "name": "python",
      "nbconvert_exporter": "python",
      "pygments_lexer": "ipython3",
      "version": "3.8.13"
    }
  },
  "nbformat": 4,
  "nbformat_minor": 0
}